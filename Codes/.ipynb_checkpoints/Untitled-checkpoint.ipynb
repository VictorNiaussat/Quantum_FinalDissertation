{
 "cells": [
  {
   "cell_type": "code",
   "execution_count": 1,
   "id": "86306d13",
   "metadata": {},
   "outputs": [],
   "source": [
    "import numpy as np\n",
    "from qiskit import QuantumCircuit,BasicAer\n",
    "%matplotlib inline\n",
    "\n",
    "from qiskit.circuit.library import IQP\n",
    "from qiskit import *\n",
    "from qiskit.visualization import plot_state_city,plot_histogram\n",
    "import qiskit\n"
   ]
  },
  {
   "cell_type": "code",
   "execution_count": 130,
   "id": "0b686c3f",
   "metadata": {},
   "outputs": [
    {
     "data": {
      "text/plain": [
       "['AND',\n",
       " 'Barrier',\n",
       " 'BlueprintCircuit',\n",
       " 'C3SXGate',\n",
       " 'C3XGate',\n",
       " 'C4XGate',\n",
       " 'CCXGate',\n",
       " 'CDKMRippleCarryAdder',\n",
       " 'CHGate',\n",
       " 'CPhaseGate',\n",
       " 'CRXGate',\n",
       " 'CRYGate',\n",
       " 'CRZGate',\n",
       " 'CSXGate',\n",
       " 'CSwapGate',\n",
       " 'CU1Gate',\n",
       " 'CU3Gate',\n",
       " 'CUGate',\n",
       " 'CXGate',\n",
       " 'CYGate',\n",
       " 'CZGate',\n",
       " 'DCXGate',\n",
       " 'Diagonal',\n",
       " 'DraperQFTAdder',\n",
       " 'ECRGate',\n",
       " 'EfficientSU2',\n",
       " 'EvolvedOperatorAnsatz',\n",
       " 'ExactReciprocal',\n",
       " 'ExcitationPreserving',\n",
       " 'FourierChecking',\n",
       " 'FunctionalPauliRotations',\n",
       " 'GMS',\n",
       " 'GR',\n",
       " 'GRX',\n",
       " 'GRY',\n",
       " 'GRZ',\n",
       " 'GraphState',\n",
       " 'GroverOperator',\n",
       " 'HGate',\n",
       " 'HRSCumulativeMultiplier',\n",
       " 'HiddenLinearFunction',\n",
       " 'IGate',\n",
       " 'IQP',\n",
       " 'InnerProduct',\n",
       " 'IntegerComparator',\n",
       " 'LinearAmplitudeFunction',\n",
       " 'LinearFunction',\n",
       " 'LinearPauliRotations',\n",
       " 'MCMT',\n",
       " 'MCMTVChain',\n",
       " 'MCPhaseGate',\n",
       " 'MCU1Gate',\n",
       " 'MCXGate',\n",
       " 'MCXGrayCode',\n",
       " 'MCXRecursive',\n",
       " 'MCXVChain',\n",
       " 'MSGate',\n",
       " 'Measure',\n",
       " 'NLocal',\n",
       " 'OR',\n",
       " 'PauliEvolutionGate',\n",
       " 'PauliFeatureMap',\n",
       " 'PauliGate',\n",
       " 'PauliTwoDesign',\n",
       " 'Permutation',\n",
       " 'PhaseEstimation',\n",
       " 'PhaseGate',\n",
       " 'PhaseOracle',\n",
       " 'PiecewiseChebyshev',\n",
       " 'PiecewiseLinearPauliRotations',\n",
       " 'PiecewisePolynomialPauliRotations',\n",
       " 'PolynomialPauliRotations',\n",
       " 'QAOAAnsatz',\n",
       " 'QFT',\n",
       " 'QuadraticForm',\n",
       " 'QuantumVolume',\n",
       " 'RC3XGate',\n",
       " 'RCCXGate',\n",
       " 'RGQFTMultiplier',\n",
       " 'RGate',\n",
       " 'RVGate',\n",
       " 'RXGate',\n",
       " 'RXXGate',\n",
       " 'RYGate',\n",
       " 'RYYGate',\n",
       " 'RZGate',\n",
       " 'RZXGate',\n",
       " 'RZZGate',\n",
       " 'RealAmplitudes',\n",
       " 'Reset',\n",
       " 'SGate',\n",
       " 'SXGate',\n",
       " 'SXdgGate',\n",
       " 'SdgGate',\n",
       " 'StatePreparation',\n",
       " 'SwapGate',\n",
       " 'TGate',\n",
       " 'TdgGate',\n",
       " 'TwoLocal',\n",
       " 'U1Gate',\n",
       " 'U2Gate',\n",
       " 'U3Gate',\n",
       " 'UGate',\n",
       " 'VBERippleCarryAdder',\n",
       " 'WeightedAdder',\n",
       " 'XGate',\n",
       " 'XOR',\n",
       " 'XXMinusYYGate',\n",
       " 'XXPlusYYGate',\n",
       " 'YGate',\n",
       " 'ZFeatureMap',\n",
       " 'ZGate',\n",
       " 'ZZFeatureMap',\n",
       " '__builtins__',\n",
       " '__cached__',\n",
       " '__doc__',\n",
       " '__file__',\n",
       " '__loader__',\n",
       " '__name__',\n",
       " '__package__',\n",
       " '__path__',\n",
       " '__spec__',\n",
       " 'arithmetic',\n",
       " 'basis_change',\n",
       " 'blueprintcircuit',\n",
       " 'boolean_logic',\n",
       " 'clifford',\n",
       " 'clifford_2_1',\n",
       " 'clifford_2_2',\n",
       " 'clifford_2_3',\n",
       " 'clifford_2_4',\n",
       " 'clifford_3_1',\n",
       " 'clifford_4_1',\n",
       " 'clifford_4_2',\n",
       " 'clifford_4_3',\n",
       " 'clifford_4_4',\n",
       " 'clifford_5_1',\n",
       " 'clifford_6_1',\n",
       " 'clifford_6_2',\n",
       " 'clifford_6_3',\n",
       " 'clifford_6_4',\n",
       " 'clifford_6_5',\n",
       " 'clifford_8_1',\n",
       " 'clifford_8_2',\n",
       " 'clifford_8_3',\n",
       " 'data_preparation',\n",
       " 'dcx',\n",
       " 'ecr',\n",
       " 'evolved_operator_ansatz',\n",
       " 'fourier_checking',\n",
       " 'generalized_gates',\n",
       " 'graph_state',\n",
       " 'grover_operator',\n",
       " 'h',\n",
       " 'hidden_linear_function',\n",
       " 'i',\n",
       " 'iSwapGate',\n",
       " 'iqp',\n",
       " 'iswap',\n",
       " 'mcrx',\n",
       " 'mcry',\n",
       " 'mcrz',\n",
       " 'multi_control_rotation_gates',\n",
       " 'n_local',\n",
       " 'nct',\n",
       " 'p',\n",
       " 'pauli_evolution',\n",
       " 'phase_estimation',\n",
       " 'phase_oracle',\n",
       " 'quantum_volume',\n",
       " 'r',\n",
       " 'rx',\n",
       " 'rxx',\n",
       " 'ry',\n",
       " 'ryy',\n",
       " 'rz',\n",
       " 'rzx',\n",
       " 'rzx_cy',\n",
       " 'rzx_xz',\n",
       " 'rzx_yz',\n",
       " 'rzx_zz1',\n",
       " 'rzx_zz2',\n",
       " 'rzx_zz3',\n",
       " 'rzz',\n",
       " 's',\n",
       " 'standard_gates',\n",
       " 'swap',\n",
       " 'sx',\n",
       " 't',\n",
       " 'template_nct_2a_1',\n",
       " 'template_nct_2a_2',\n",
       " 'template_nct_2a_3',\n",
       " 'template_nct_4a_1',\n",
       " 'template_nct_4a_2',\n",
       " 'template_nct_4a_3',\n",
       " 'template_nct_4b_1',\n",
       " 'template_nct_4b_2',\n",
       " 'template_nct_5a_1',\n",
       " 'template_nct_5a_2',\n",
       " 'template_nct_5a_3',\n",
       " 'template_nct_5a_4',\n",
       " 'template_nct_6a_1',\n",
       " 'template_nct_6a_2',\n",
       " 'template_nct_6a_3',\n",
       " 'template_nct_6a_4',\n",
       " 'template_nct_6b_1',\n",
       " 'template_nct_6b_2',\n",
       " 'template_nct_6c_1',\n",
       " 'template_nct_7a_1',\n",
       " 'template_nct_7b_1',\n",
       " 'template_nct_7c_1',\n",
       " 'template_nct_7d_1',\n",
       " 'template_nct_7e_1',\n",
       " 'template_nct_9a_1',\n",
       " 'template_nct_9c_1',\n",
       " 'template_nct_9c_10',\n",
       " 'template_nct_9c_11',\n",
       " 'template_nct_9c_12',\n",
       " 'template_nct_9c_2',\n",
       " 'template_nct_9c_3',\n",
       " 'template_nct_9c_4',\n",
       " 'template_nct_9c_5',\n",
       " 'template_nct_9c_6',\n",
       " 'template_nct_9c_7',\n",
       " 'template_nct_9c_8',\n",
       " 'template_nct_9c_9',\n",
       " 'template_nct_9d_1',\n",
       " 'template_nct_9d_10',\n",
       " 'template_nct_9d_2',\n",
       " 'template_nct_9d_3',\n",
       " 'template_nct_9d_4',\n",
       " 'template_nct_9d_5',\n",
       " 'template_nct_9d_6',\n",
       " 'template_nct_9d_7',\n",
       " 'template_nct_9d_8',\n",
       " 'template_nct_9d_9',\n",
       " 'templates',\n",
       " 'u',\n",
       " 'u1',\n",
       " 'u2',\n",
       " 'u3',\n",
       " 'x',\n",
       " 'xx_minus_yy',\n",
       " 'xx_plus_yy',\n",
       " 'y',\n",
       " 'z']"
      ]
     },
     "execution_count": 130,
     "metadata": {},
     "output_type": "execute_result"
    }
   ],
   "source": [
    "\n",
    "dir(qiskit.circuit.library)"
   ]
  },
  {
   "cell_type": "code",
   "execution_count": 113,
   "id": "0f2965f0",
   "metadata": {},
   "outputs": [
    {
     "name": "stdout",
     "output_type": "stream",
     "text": [
      "[[2 1]\n",
      " [1 1]]\n"
     ]
    }
   ],
   "source": [
    "from qiskit.circuit import QuantumCircuit, Parameter, ParameterVector\n",
    "\n",
    "Interactions = np.array([[2,1],[1,1]])\n",
    "print(Interactions)\n",
    "qc = IQP(Interactions)"
   ]
  },
  {
   "cell_type": "code",
   "execution_count": 112,
   "id": "5254ff9c",
   "metadata": {},
   "outputs": [
    {
     "data": {
      "text/html": [
       "<pre style=\"word-wrap: normal;white-space: pre;background: #fff0;line-height: 1.1;font-family: &quot;Courier New&quot;,Courier,monospace\">     ┌───┐         ┌────────┐┌───┐\n",
       "q_0: ┤ H ├─■───────┤ P(π/8) ├┤ H ├\n",
       "     ├───┤ │P(π/2) ├────────┤├───┤\n",
       "q_1: ┤ H ├─■───────┤ P(π/8) ├┤ H ├\n",
       "     └───┘         └────────┘└───┘</pre>"
      ],
      "text/plain": [
       "     ┌───┐         ┌────────┐┌───┐\n",
       "q_0: ┤ H ├─■───────┤ P(π/8) ├┤ H ├\n",
       "     ├───┤ │P(π/2) ├────────┤├───┤\n",
       "q_1: ┤ H ├─■───────┤ P(π/8) ├┤ H ├\n",
       "     └───┘         └────────┘└───┘"
      ]
     },
     "execution_count": 112,
     "metadata": {},
     "output_type": "execute_result"
    }
   ],
   "source": [
    "\n",
    "qc.decompose().draw()"
   ]
  },
  {
   "cell_type": "code",
   "execution_count": 114,
   "id": "9392bcc4",
   "metadata": {},
   "outputs": [],
   "source": [
    "backend = Aer.get_backend('statevector_simulator')\n",
    "result = backend.run(transpile(qc, backend)).result()\n",
    "psi  = result.get_statevector(qc)\n",
    "counts  = result.get_counts(qc)\n"
   ]
  },
  {
   "cell_type": "code",
   "execution_count": 122,
   "id": "afa90b29",
   "metadata": {},
   "outputs": [
    {
     "data": {
      "image/png": "[encoded data removed]",
      "text/plain": [
       "<Figure size 504x360 with 1 Axes>"
      ]
     },
     "execution_count": 122,
     "metadata": {},
     "output_type": "execute_result"
    }
   ],
   "source": [
    "\n",
    "plot_histogram(counts)"
   ]
  },
  {
   "cell_type": "markdown",
   "id": "6960eba1",
   "metadata": {},
   "source": [
    "## Gaussian Sampling"
   ]
  },
  {
   "cell_type": "code",
   "execution_count": 29,
   "id": "3802e8c5",
   "metadata": {},
   "outputs": [
    {
     "data": {
      "image/png": "[encoded data removed]",
      "text/plain": [
       "<Figure size 1591.6x565.88 with 1 Axes>"
      ]
     },
     "execution_count": 29,
     "metadata": {},
     "output_type": "execute_result"
    }
   ],
   "source": [
    "from qiskit_finance.circuit.library.probability_distributions import NormalDistribution\n",
    "from qiskit import *\n",
    "import matplotlib.pyplot as plt\n",
    "qc = NormalDistribution(4, mu=0, sigma=1, bounds=(0, 2))\n",
    "\n",
    "\n",
    "\n",
    "backend = Aer.get_backend('statevector_simulator')\n",
    "result = backend.run(transpile(qc, backend)).result()\n",
    "psi  = result.get_statevector(qc)\n",
    "counts  = result.get_counts(qc)\n",
    "\n",
    "\n",
    "qc.decompose().decompose().decompose().decompose().decompose().draw(output=\"mpl\")"
   ]
  },
  {
   "cell_type": "code",
   "execution_count": 30,
   "id": "b208e8aa",
   "metadata": {},
   "outputs": [
    {
     "data": {
      "image/png": "[encoded data removed]",
      "text/plain": [
       "<Figure size 504x360 with 1 Axes>"
      ]
     },
     "execution_count": 30,
     "metadata": {},
     "output_type": "execute_result"
    }
   ],
   "source": [
    "plot_histogram(counts)"
   ]
  },
  {
   "cell_type": "code",
   "execution_count": 21,
   "id": "f176e983",
   "metadata": {},
   "outputs": [
    {
     "data": {
      "image/png": "[encoded data removed]",
      "text/plain": [
       "<Figure size 146.797x204.68 with 1 Axes>"
      ]
     },
     "execution_count": 21,
     "metadata": {},
     "output_type": "execute_result"
    }
   ],
   "source": [
    "from qiskit_finance.circuit.library.probability_distributions import NormalDistribution,UniformDistribution\n",
    "from qiskit import *\n",
    "import matplotlib.pyplot as plt\n",
    "qc = UniformDistribution(3)\n",
    "\n",
    "\n",
    "\n",
    "backend = Aer.get_backend('statevector_simulator')\n",
    "result = backend.run(transpile(qc, backend)).result()\n",
    "psi  = result.get_statevector(qc)\n",
    "counts  = result.get_counts(qc)\n",
    "plot_histogram(counts)\n",
    "\n",
    "qc.decompose().draw(output=\"mpl\")"
   ]
  },
  {
   "cell_type": "code",
   "execution_count": 5,
   "id": "95682a96",
   "metadata": {},
   "outputs": [],
   "source": [
    "import qiskit"
   ]
  },
  {
   "cell_type": "code",
   "execution_count": 7,
   "id": "24a3e0c4",
   "metadata": {},
   "outputs": [
    {
     "name": "stdout",
     "output_type": "stream",
     "text": [
      "Requirement already satisfied: qiskit-nature in c:\\users\\victo\\anaconda3\\lib\\site-packages (0.4.5)\n",
      "Requirement already satisfied: psutil>=5 in c:\\users\\victo\\anaconda3\\lib\\site-packages (from qiskit-nature) (5.9.3)\n",
      "Requirement already satisfied: typing-extensions in c:\\users\\victo\\anaconda3\\lib\\site-packages (from qiskit-nature) (4.3.0)\n",
      "Requirement already satisfied: h5py in c:\\users\\victo\\anaconda3\\lib\\site-packages (from qiskit-nature) (2.9.0)\n",
      "Requirement already satisfied: setuptools>=40.1.0 in c:\\users\\victo\\anaconda3\\lib\\site-packages (from qiskit-nature) (41.4.0)\n",
      "Requirement already satisfied: scipy>=1.4 in c:\\users\\victo\\anaconda3\\lib\\site-packages (from qiskit-nature) (1.7.3)\n",
      "Requirement already satisfied: scikit-learn>=0.20.0 in c:\\users\\victo\\anaconda3\\lib\\site-packages (from qiskit-nature) (1.0.2)\n",
      "Requirement already satisfied: retworkx>=0.10.1 in c:\\users\\victo\\anaconda3\\lib\\site-packages (from qiskit-nature) (0.11.0)\n",
      "Requirement already satisfied: qiskit-terra>=0.21.0 in c:\\users\\victo\\anaconda3\\lib\\site-packages (from qiskit-nature) (0.21.2)\n",
      "Requirement already satisfied: numpy>=1.17 in c:\\users\\victo\\anaconda3\\lib\\site-packages (from qiskit-nature) (1.21.6)\n",
      "Requirement already satisfied: ply>=3.10 in c:\\users\\victo\\anaconda3\\lib\\site-packages (from qiskit-terra>=0.21.0->qiskit-nature) (3.11)\n",
      "Requirement already satisfied: dill>=0.3 in c:\\users\\victo\\anaconda3\\lib\\site-packages (from qiskit-terra>=0.21.0->qiskit-nature) (0.3.5.1)\n",
      "Requirement already satisfied: sympy>=1.3 in c:\\users\\victo\\anaconda3\\lib\\site-packages (from qiskit-terra>=0.21.0->qiskit-nature) (1.4)\n",
      "Requirement already satisfied: python-dateutil>=2.8.0 in c:\\users\\victo\\appdata\\roaming\\python\\python37\\site-packages (from qiskit-terra>=0.21.0->qiskit-nature) (2.8.2)\n",
      "Requirement already satisfied: tweedledum<2.0,>=1.1 in c:\\users\\victo\\anaconda3\\lib\\site-packages (from qiskit-terra>=0.21.0->qiskit-nature) (1.1.1)\n",
      "Requirement already satisfied: shared-memory38 in c:\\users\\victo\\anaconda3\\lib\\site-packages (from qiskit-terra>=0.21.0->qiskit-nature) (0.1.2)\n",
      "Requirement already satisfied: stevedore>=3.0.0 in c:\\users\\victo\\anaconda3\\lib\\site-packages (from qiskit-terra>=0.21.0->qiskit-nature) (3.5.0)\n",
      "Requirement already satisfied: joblib>=0.11 in c:\\users\\victo\\anaconda3\\lib\\site-packages (from scikit-learn>=0.20.0->qiskit-nature) (0.13.2)\n",
      "Requirement already satisfied: threadpoolctl>=2.0.0 in c:\\users\\victo\\anaconda3\\lib\\site-packages (from scikit-learn>=0.20.0->qiskit-nature) (3.1.0)\n",
      "Requirement already satisfied: six in c:\\users\\victo\\anaconda3\\lib\\site-packages (from h5py->qiskit-nature) (1.12.0)\n",
      "Requirement already satisfied: pbr!=2.1.0,>=2.0.0 in c:\\users\\victo\\anaconda3\\lib\\site-packages (from stevedore>=3.0.0->qiskit-terra>=0.21.0->qiskit-nature) (5.10.0)\n",
      "Requirement already satisfied: importlib-metadata>=1.7.0 in c:\\users\\victo\\anaconda3\\lib\\site-packages (from stevedore>=3.0.0->qiskit-terra>=0.21.0->qiskit-nature) (4.11.3)\n",
      "Requirement already satisfied: mpmath>=0.19 in c:\\users\\victo\\anaconda3\\lib\\site-packages (from sympy>=1.3->qiskit-terra>=0.21.0->qiskit-nature) (1.1.0)\n",
      "Requirement already satisfied: zipp>=0.5 in c:\\users\\victo\\anaconda3\\lib\\site-packages (from importlib-metadata>=1.7.0->stevedore>=3.0.0->qiskit-terra>=0.21.0->qiskit-nature) (3.10.0)\n",
      "Note: you may need to restart the kernel to use updated packages.\n"
     ]
    },
    {
     "name": "stderr",
     "output_type": "stream",
     "text": [
      "WARNING: Ignoring invalid distribution -umpy (c:\\users\\victo\\anaconda3\\lib\\site-packages)\n",
      "WARNING: Ignoring invalid distribution -heel (c:\\users\\victo\\anaconda3\\lib\\site-packages)\n",
      "WARNING: Ignoring invalid distribution -ffi (c:\\users\\victo\\anaconda3\\lib\\site-packages)\n",
      "WARNING: Ignoring invalid distribution -umpy (c:\\users\\victo\\anaconda3\\lib\\site-packages)\n",
      "WARNING: Ignoring invalid distribution -heel (c:\\users\\victo\\anaconda3\\lib\\site-packages)\n",
      "WARNING: Ignoring invalid distribution -ffi (c:\\users\\victo\\anaconda3\\lib\\site-packages)\n",
      "WARNING: Ignoring invalid distribution -umpy (c:\\users\\victo\\anaconda3\\lib\\site-packages)\n",
      "WARNING: Ignoring invalid distribution -heel (c:\\users\\victo\\anaconda3\\lib\\site-packages)\n",
      "WARNING: Ignoring invalid distribution -ffi (c:\\users\\victo\\anaconda3\\lib\\site-packages)\n",
      "WARNING: Ignoring invalid distribution -umpy (c:\\users\\victo\\anaconda3\\lib\\site-packages)\n",
      "WARNING: Ignoring invalid distribution -heel (c:\\users\\victo\\anaconda3\\lib\\site-packages)\n",
      "WARNING: Ignoring invalid distribution -ffi (c:\\users\\victo\\anaconda3\\lib\\site-packages)\n",
      "WARNING: Ignoring invalid distribution -umpy (c:\\users\\victo\\anaconda3\\lib\\site-packages)\n",
      "WARNING: Ignoring invalid distribution -heel (c:\\users\\victo\\anaconda3\\lib\\site-packages)\n",
      "WARNING: Ignoring invalid distribution -ffi (c:\\users\\victo\\anaconda3\\lib\\site-packages)\n",
      "WARNING: Ignoring invalid distribution -umpy (c:\\users\\victo\\anaconda3\\lib\\site-packages)\n",
      "WARNING: Ignoring invalid distribution -heel (c:\\users\\victo\\anaconda3\\lib\\site-packages)\n",
      "WARNING: Ignoring invalid distribution -ffi (c:\\users\\victo\\anaconda3\\lib\\site-packages)\n"
     ]
    }
   ],
   "source": [
    "pip install qiskit-nature"
   ]
  }
 ],
 "metadata": {
  "kernelspec": {
   "display_name": "Python 3",
   "language": "python",
   "name": "python3"
  },
  "language_info": {
   "codemirror_mode": {
    "name": "ipython",
    "version": 3
   },
   "file_extension": ".py",
   "mimetype": "text/x-python",
   "name": "python",
   "nbconvert_exporter": "python",
   "pygments_lexer": "ipython3",
   "version": "3.7.4"
  }
 },
 "nbformat": 4,
 "nbformat_minor": 5
}
