{
 "cells": [
  {
   "cell_type": "markdown",
   "id": "f544d2c8",
   "metadata": {
    "pycharm": {
     "name": "#%% md\n"
    }
   },
   "source": [
    "# Boson Sampling\n",
    "\n",
    "We are interested to simulate a boson sample with 14 photons and 60 modes, order of size comparable to what was done in *Boson Sampling with 20 Input Photons and a 60-Mode Interferometer in a* $10^{14}$*-Dimensional Hilbert Space* <a href=\"#references\">[1]</a>"
   ]
  },
  {
   "cell_type": "code",
   "execution_count": 1,
   "id": "377f26da",
   "metadata": {
    "pycharm": {
     "name": "#%%\n"
    }
   },
   "outputs": [],
   "source": [
    "from collections import Counter\n",
    "import gzip\n",
    "import pickle\n",
    "import time\n",
    "\n",
    "import random\n",
    "\n",
    "import perceval as pcvl\n",
    "from perceval.algorithm import Sampler"
   ]
  },
  {
   "cell_type": "markdown",
   "id": "102a341e",
   "metadata": {
    "pycharm": {
     "name": "#%% md\n"
    }
   },
   "source": [
    "We define all the needed values below. "
   ]
  },
  {
   "cell_type": "markdown",
   "id": "0137c52a",
   "metadata": {
    "pycharm": {
     "name": "#%% md\n"
    }
   },
   "source": [
    "## Perfect Boson sampling"
   ]
  },
  {
   "cell_type": "code",
   "execution_count": 2,
   "id": "8a3f7c95",
   "metadata": {
    "pycharm": {
     "name": "#%%\n"
    },
    "scrolled": true
   },
   "outputs": [],
   "source": [
    "n = 14       #number of photons at the input\n",
    "m = 60       #number of modes\n",
    "N = 5000000  #number of samplings"
   ]
  },
  {
   "cell_type": "markdown",
   "id": "908c7fdc",
   "metadata": {
    "pycharm": {
     "name": "#%% md\n"
    }
   },
   "source": [
    "### Generating a Haar random Unitary with Perceval"
   ]
  },
  {
   "cell_type": "code",
   "execution_count": 3,
   "id": "938cda83",
   "metadata": {
    "pycharm": {
     "name": "#%%\n"
    },
    "scrolled": true
   },
   "outputs": [],
   "source": [
    "Unitary_60 = pcvl.Matrix.random_unitary(m) #creates a random unitary of dimension 60"
   ]
  },
  {
   "cell_type": "markdown",
   "id": "9f46fd43",
   "metadata": {
    "pycharm": {
     "name": "#%% md\n"
    }
   },
   "source": [
    "### A possible linear circuit realization of such matrix would be the following."
   ]
  },
  {
   "cell_type": "markdown",
   "id": "be3084ae",
   "metadata": {
    "pycharm": {
     "name": "#%% md\n"
    }
   },
   "source": [
    "Here we define a 2-mode unitary circuit that we can use to decompose the 60 mode unitary"
   ]
  },
  {
   "cell_type": "code",
   "execution_count": 4,
   "id": "76e1fbe3",
   "metadata": {
    "pycharm": {
     "name": "#%%\n"
    }
   },
   "outputs": [
    {
     "data": {
      "image/svg+xml": [
       "<?xml version=\"1.0\" encoding=\"UTF-8\"?>\n",
       "<svg xmlns=\"http://www.w3.org/2000/svg\" xmlns:xlink=\"http://www.w3.org/1999/xlink\"\n",
       "     width=\"562.5\" height=\"187.5\" viewBox=\"-28.0 0 450 150\">\n",
       "<defs>\n",
       "</defs>\n",
       "<path d=\"M10,25 L25,25\" stroke-width=\"3\" stroke=\"darkred\" stroke-linejoin=\"miter\" fill=\"none\" />\n",
       "<path d=\"M10,75 L25,75\" stroke-width=\"3\" stroke=\"darkred\" stroke-linejoin=\"miter\" fill=\"none\" />\n",
       "<path d=\"M25,25 L53,25 L72,44\" stroke=\"darkred\" stroke-width=\"3\" fill=\"none\" />\n",
       "<path d=\"M78,44 L97,25 L125,25\" stroke=\"darkred\" stroke-width=\"3\" fill=\"none\" />\n",
       "<path d=\"M25,75 L53,75 L72,56\" stroke=\"darkred\" stroke-width=\"3\" fill=\"none\" />\n",
       "<path d=\"M78,56 L97,75 L125,75\" stroke=\"darkred\" stroke-width=\"3\" fill=\"none\" />\n",
       "<path d=\"M50,43 L100,43 L100,57 L50,57 Z\" stroke=\"black\" fill=\"black\" stroke-linejoin=\"miter\" />\n",
       "<text x=\"75\" y=\"85\" font-size=\"7\" text-anchor=\"middle\" dy=\"0em\"></text>\n",
       "<text x=\"75\" y=\"26\" font-size=\"7\" text-anchor=\"middle\" dy=\"0em\"></text>\n",
       "<path d=\"M50,43 L100,43 L100,47 L50,47 Z\" stroke=\"black\" fill=\"lightgray\" stroke-linejoin=\"miter\" />\n",
       "<path d=\"M93,50 L103,50 L103,60 L93,60 Z\" stroke=\"black\" fill=\"thistle\" stroke-linejoin=\"miter\" />\n",
       "<text x=\"98\" y=\"57\" font-size=\"6\" text-anchor=\"middle\" dy=\"0em\">Rx</text>\n",
       "<path d=\"M125,25 L175,25\" stroke=\"darkred\" stroke-width=\"3\" fill=\"none\" />\n",
       "<path d=\"M130,40 L139,40 L153,10 L144,10 L130,40 L139,40 Z\" stroke=\"black\" fill=\"gray\" stroke-linejoin=\"miter\" />\n",
       "<text x=\"147\" y=\"38\" font-size=\"7\" text-anchor=\"start\" dy=\"0em\">Φ=Ï†_a</text>\n",
       "<path d=\"M125,75 L175,75\" stroke=\"darkred\" stroke-width=\"3\" fill=\"none\" />\n",
       "<path d=\"M175,25 L203,25 L222,44\" stroke=\"darkred\" stroke-width=\"3\" fill=\"none\" />\n",
       "<path d=\"M228,44 L247,25 L275,25\" stroke=\"darkred\" stroke-width=\"3\" fill=\"none\" />\n",
       "<path d=\"M175,75 L203,75 L222,56\" stroke=\"darkred\" stroke-width=\"3\" fill=\"none\" />\n",
       "<path d=\"M228,56 L247,75 L275,75\" stroke=\"darkred\" stroke-width=\"3\" fill=\"none\" />\n",
       "<path d=\"M200,43 L250,43 L250,57 L200,57 Z\" stroke=\"black\" fill=\"black\" stroke-linejoin=\"miter\" />\n",
       "<text x=\"225\" y=\"85\" font-size=\"7\" text-anchor=\"middle\" dy=\"0em\"></text>\n",
       "<text x=\"225\" y=\"26\" font-size=\"7\" text-anchor=\"middle\" dy=\"0em\"></text>\n",
       "<path d=\"M200,43 L250,43 L250,47 L200,47 Z\" stroke=\"black\" fill=\"lightgray\" stroke-linejoin=\"miter\" />\n",
       "<path d=\"M243,50 L253,50 L253,60 L243,60 Z\" stroke=\"black\" fill=\"thistle\" stroke-linejoin=\"miter\" />\n",
       "<text x=\"248\" y=\"57\" font-size=\"6\" text-anchor=\"middle\" dy=\"0em\">Rx</text>\n",
       "<path d=\"M275,75 L325,75\" stroke=\"darkred\" stroke-width=\"3\" fill=\"none\" />\n",
       "<path d=\"M280,90 L289,90 L303,60 L294,60 L280,90 L289,90 Z\" stroke=\"black\" fill=\"gray\" stroke-linejoin=\"miter\" />\n",
       "<text x=\"297\" y=\"88\" font-size=\"7\" text-anchor=\"start\" dy=\"0em\">Φ=Ï†_b</text>\n",
       "<path d=\"M275,25 L325,25\" stroke=\"darkred\" stroke-width=\"3\" fill=\"none\" />\n",
       "<path d=\"M325,25 L340,25\" stroke-width=\"3\" stroke=\"darkred\" stroke-linejoin=\"miter\" fill=\"none\" />\n",
       "<path d=\"M325,75 L340,75\" stroke-width=\"3\" stroke=\"darkred\" stroke-linejoin=\"miter\" fill=\"none\" />\n",
       "<text x=\"350\" y=\"28\" font-size=\"6\" text-anchor=\"end\" dy=\"0em\">0</text>\n",
       "<text x=\"350\" y=\"78\" font-size=\"6\" text-anchor=\"end\" dy=\"0em\">1</text>\n",
       "<text x=\"0\" y=\"28\" font-size=\"6\" text-anchor=\"start\" dy=\"0em\">0</text>\n",
       "<text x=\"0\" y=\"78\" font-size=\"6\" text-anchor=\"start\" dy=\"0em\">1</text>\n",
       "</svg>"
      ],
      "text/plain": [
       "<drawSvg.drawing.Drawing at 0x7f7f5949a4d0>"
      ]
     },
     "execution_count": 4,
     "metadata": {},
     "output_type": "execute_result"
    }
   ],
   "source": [
    "mzi = (pcvl.BS() // (0, pcvl.PS(phi=pcvl.Parameter(\"Ï†_a\")))\n",
    "       // pcvl.BS() // (1, pcvl.PS(phi=pcvl.Parameter(\"Ï†_b\"))))\n",
    "pcvl.pdisplay(mzi)"
   ]
  },
  {
   "cell_type": "markdown",
   "id": "f0c530b9",
   "metadata": {
    "pycharm": {
     "name": "#%% md\n"
    }
   },
   "source": [
    "Let us decompose the unitary into a Reck's type circuit <a href=\"#references\">[2]</a> - this makes a huge circuit..."
   ]
  },
  {
   "cell_type": "code",
   "execution_count": null,
   "id": "e6ef4f78",
   "metadata": {
    "pycharm": {
     "name": "#%%\n"
    }
   },
   "outputs": [],
   "source": [
    "Linear_Circuit_60 = pcvl.Circuit.decomposition(Unitary_60, mzi,\n",
    "                                               phase_shifter_fn=pcvl.PS,\n",
    "                                               shape=\"triangle\")\n",
    "\n",
    "pcvl.pdisplay(Linear_Circuit_60)"
   ]
  },
  {
   "cell_type": "markdown",
   "id": "572b6d02",
   "metadata": {
    "pycharm": {
     "name": "#%% md\n"
    }
   },
   "source": [
    "### Running Simulation\n",
    "\n",
    "Now we choose the way to perform the simulation with Perceval. The number of photons is within what we could simulate with a `Naive` backend (see [here](https://perceval.quandela.net/docs/backends.html#naive)), however, the output space is far too big just to enumerate and store the states - so let us go with sampling using `CliffordClifford2017` backend (see [here](https://perceval.quandela.net/docs/backends.html#cliffordclifford2017))."
   ]
  },
  {
   "cell_type": "code",
   "execution_count": 6,
   "id": "901d0cdf",
   "metadata": {
    "pycharm": {
     "name": "#%%\n"
    },
    "scrolled": true
   },
   "outputs": [],
   "source": [
    "QPU = pcvl.Processor(\"CliffordClifford2017\", Linear_Circuit_60)"
   ]
  },
  {
   "cell_type": "markdown",
   "id": "0fe468d3",
   "metadata": {
    "pycharm": {
     "name": "#%% md\n"
    }
   },
   "source": [
    "Select a random input:"
   ]
  },
  {
   "cell_type": "code",
   "execution_count": 7,
   "id": "f4611c9c",
   "metadata": {
    "pycharm": {
     "name": "#%%\n"
    }
   },
   "outputs": [
    {
     "name": "stdout",
     "output_type": "stream",
     "text": [
      "The input state:  |0,1,0,0,0,0,0,0,0,0,1,0,1,0,0,0,0,1,0,0,0,0,1,1,0,0,0,0,0,1,0,0,0,0,0,0,0,1,0,1,1,0,0,0,1,0,1,0,0,0,1,0,1,0,0,0,0,0,0,0>\n"
     ]
    }
   ],
   "source": [
    "#one can choose which mode he/she wants at input, or we can choose it randomly \n",
    "def Generating_Input(n, m, modes = None):\n",
    "    \"This function randomly chooses an input with n photons in m modes.\"\n",
    "    if modes == None :\n",
    "        modes = sorted(random.sample(range(m),n))\n",
    "    state = \"|\"\n",
    "    for i in range(m):\n",
    "        state = state + \"0\"*(1 - (i in modes)) +\"1\"*(i in modes)+ \",\"*(i < m-1)\n",
    "    return pcvl.BasicState(state + \">\")\n",
    "\n",
    "input_state = Generating_Input(n, m)\n",
    "print(\"The input state: \", input_state)\n",
    "QPU.with_input(input_state)"
   ]
  },
  {
   "cell_type": "markdown",
   "id": "e5713fb8",
   "metadata": {
    "pycharm": {
     "name": "#%% md\n"
    }
   },
   "source": [
    "Just to see that it outputs a statevectors of n photon(s) in m modes."
   ]
  },
  {
   "cell_type": "code",
   "execution_count": 8,
   "id": "4723c02d",
   "metadata": {
    "pycharm": {
     "name": "#%%\n"
    }
   },
   "outputs": [
    {
     "name": "stdout",
     "output_type": "stream",
     "text": [
      "The sampled outputs are:\n",
      "|0,0,0,0,0,0,0,0,0,0,0,0,0,0,0,0,0,1,1,0,0,0,2,0,0,0,2,0,0,0,1,0,0,1,0,0,0,0,0,0,1,0,0,0,0,0,0,1,0,2,0,0,0,0,0,1,0,0,0,1>\n",
      "|0,0,0,0,0,0,0,0,0,1,0,0,0,0,0,0,0,1,0,0,0,2,0,0,0,0,0,0,2,1,0,2,0,0,1,0,0,0,0,1,0,0,0,0,0,0,0,0,0,0,0,1,1,0,0,0,0,0,1,0>\n",
      "|0,3,1,1,1,0,0,0,1,0,0,0,0,1,0,1,0,0,0,0,0,0,0,0,0,0,0,0,1,0,0,0,0,0,0,1,0,0,0,1,2,0,0,0,0,0,0,0,0,0,0,0,0,0,0,0,0,0,0,0>\n",
      "|0,0,0,0,0,0,0,0,0,0,0,0,2,0,0,0,0,4,0,0,1,0,0,0,0,1,0,0,1,0,0,0,1,0,0,0,0,0,0,0,0,0,1,0,1,0,0,0,0,0,1,0,1,0,0,0,0,0,0,0>\n",
      "|0,0,0,0,0,0,0,0,0,0,0,0,0,0,0,0,3,1,0,0,0,0,0,0,0,0,0,0,0,1,2,0,0,0,0,0,0,0,0,1,0,0,0,0,0,0,1,0,0,1,1,0,0,1,1,0,0,1,0,0>\n",
      "|1,0,0,0,1,0,1,0,0,0,0,1,0,0,0,0,0,0,0,0,0,0,1,0,0,0,0,0,0,0,0,3,0,0,0,0,1,0,0,0,0,0,0,0,2,0,2,0,0,0,0,1,0,0,0,0,0,0,0,0>\n",
      "|0,0,1,0,0,0,0,0,0,0,0,1,0,0,0,0,2,1,0,0,0,0,1,0,0,0,3,1,0,1,0,0,0,0,0,0,0,0,1,0,2,0,0,0,0,0,0,0,0,0,0,0,0,0,0,0,0,0,0,0>\n",
      "|0,0,0,3,0,0,0,0,0,0,0,1,0,0,0,0,0,0,0,0,0,0,0,0,0,0,0,0,0,1,0,0,0,0,1,0,1,0,0,0,0,1,0,0,0,1,0,0,1,0,0,4,0,0,0,0,0,0,0,0>\n",
      "|0,1,0,0,0,1,0,0,0,0,0,0,0,0,0,0,1,1,0,0,1,0,0,1,0,2,0,0,0,0,0,0,0,0,0,0,0,0,0,0,0,0,0,0,0,0,0,0,2,1,1,0,1,0,0,1,0,0,0,0>\n",
      "|1,0,0,0,0,0,0,0,0,0,0,2,0,0,0,0,0,0,0,1,0,0,0,0,0,0,0,0,2,1,0,0,0,0,0,2,0,0,2,0,0,1,0,1,0,0,0,0,0,0,0,1,0,0,0,0,0,0,0,0>\n"
     ]
    }
   ],
   "source": [
    "# Keep all outputs\n",
    "QPU.mode_post_selection(0)\n",
    "\n",
    "sampler = Sampler(QPU)\n",
    "\n",
    "print(\"The sampled outputs are:\")\n",
    "for out_state in sampler.samples(10)[\"results\"]:\n",
    "    print(out_state)"
   ]
  },
  {
   "cell_type": "markdown",
   "id": "a030c0f0",
   "metadata": {
    "pycharm": {
     "name": "#%% md\n"
    }
   },
   "source": [
    "We carry out the sampling, we do it N times, it will take some time, let us save the results to a file:"
   ]
  },
  {
   "cell_type": "code",
   "execution_count": 9,
   "id": "0cec27e3",
   "metadata": {
    "pycharm": {
     "name": "#%%\n"
    }
   },
   "outputs": [],
   "source": [
    "# if we want to launch parallel process\n",
    "worker_id=1\n",
    "\n",
    "#store the input and the unitary\n",
    "with open(\"%dphotons_%dmodes_%dsamples-worker%s-unitary.pkl\" %(n,m,N,worker_id), 'wb') as f:\n",
    "    pickle.dump(Unitary_60, f)\n",
    "\n",
    "with open(\"%dphotons_%dmodes_%dsamples-worker%s-inputstate.pkl\" %(n,m,N,worker_id), 'w') as f:\n",
    "    f.write(str(input_state)+\"\\n\")\n",
    "\n",
    "\n",
    "with gzip.open(\"%dphotons_%dmodes_%dsamples-worker%s-samples.txt.gz\" %(n,m,N,worker_id), 'wb') as f:\n",
    "    start = time.time()\n",
    "    for _ in range(N):\n",
    "        f.write((str(sampler.samples(1)[\"results\"][0])+\"\\n\").encode())\n",
    "    end = time.time()\n",
    "    f.write(str(\"==> %d\\n\" % (end-start)).encode())\n",
    "f.close()"
   ]
  },
  {
   "cell_type": "markdown",
   "id": "e0bac010",
   "metadata": {
    "pycharm": {
     "name": "#%% md\n"
    }
   },
   "source": [
    "A little after (4 hours on a 3.1GHz Intel) - we do have 5M samples. We launched this on 32 threads for 2 days and collected 300 batches of 5M samples"
   ]
  },
  {
   "cell_type": "markdown",
   "id": "9da8c951",
   "metadata": {
    "pycharm": {
     "name": "#%% md\n"
    }
   },
   "source": [
    "Let us analyze the K-first mode bunching on these samples"
   ]
  },
  {
   "cell_type": "code",
   "execution_count": 10,
   "id": "9fa1299d",
   "metadata": {
    "pycharm": {
     "name": "#%%\n"
    }
   },
   "outputs": [],
   "source": [
    "import gzip"
   ]
  },
  {
   "cell_type": "code",
   "execution_count": 11,
   "id": "f7b8dd33",
   "metadata": {
    "pycharm": {
     "name": "#%%\n"
    }
   },
   "outputs": [
    {
     "name": "stdout",
     "output_type": "stream",
     "text": [
      "5000000 samples\n",
      "Bunching Distribution: 0\t0\t0\t0\t0\t0\t0\t0\t0\t0\t0\t0\t0\t0\t0\t0\t3\t0\t1\t0\t4\t7\t12\t15\t37\t17\t72\t26\t160\t202\t425\t645\t1096\t1305\t1913\t1695\t2754\t3818\t5382\t11044\t11120\t11836\t15396\t15035\t38725\t39583\t60725\t73354\t91170\t97192\t109380\t170639\t266973\t179713\t364987\t501164\t543633\t592287\t700750\t1085705\n"
     ]
    }
   ],
   "source": [
    "worker_id = 1\n",
    "count = 0\n",
    "bunching_distribution = Counter()\n",
    "\n",
    "with gzip.open(\"%dphotons_%dmodes_%dsamples-worker%s-samples.txt.gz\"%(n,m,N,worker_id), \"rt\") as f:\n",
    "    for l in f:\n",
    "        l = l.strip()\n",
    "        if l.startswith(\"|\") and l.endswith(\">\"):\n",
    "            try:\n",
    "                st = pcvl.BasicState(l)\n",
    "                count+=1\n",
    "                bunching_distribution[st.photon2mode(st.n-1)]+=1\n",
    "            except Exception:\n",
    "                pass\n",
    "print(count, \"samples\")\n",
    "print(\"Bunching Distribution:\", \"\\t\".join([str(bunching_distribution[k]) for k in range(m)]))"
   ]
  },
  {
   "cell_type": "markdown",
   "id": "250e5a2a",
   "metadata": {
    "pycharm": {
     "name": "#%% md\n"
    }
   },
   "source": [
    "These numbers have been used on 300 samples for certification - see our article on Perceval for more details."
   ]
  },
  {
   "cell_type": "markdown",
   "id": "c3888b27",
   "metadata": {
    "pycharm": {
     "name": "#%% md\n"
    }
   },
   "source": [
    "## Boson sampling with non perfect sources\n",
    "\n",
    "Let us explore around performing Boson sampling with a non perfect source. We declare a source with 90% brightness and purity. Here, we would reach the limits of the simulation if we use the same input as before, as for each photon at the entrance, we multiply by 3 the number of input states (0, 1 or 2 photons at the input), leading to $3^n$ states."
   ]
  },
  {
   "cell_type": "code",
   "execution_count": 12,
   "id": "6eb07a8b",
   "metadata": {
    "jupyter": {
     "outputs_hidden": false
    },
    "pycharm": {
     "name": "#%%\n"
    }
   },
   "outputs": [
    {
     "data": {
      "text/plain": [
       "4782969"
      ]
     },
     "execution_count": 12,
     "metadata": {},
     "output_type": "execute_result"
    }
   ],
   "source": [
    "3 ** n"
   ]
  },
  {
   "cell_type": "code",
   "execution_count": 13,
   "id": "c5f27819",
   "metadata": {
    "pycharm": {
     "name": "#%%\n"
    },
    "scrolled": true
   },
   "outputs": [],
   "source": [
    "source = pcvl.Source(brightness=0.90, purity=0.9)\n",
    "QPU = pcvl.Processor(\"CliffordClifford2017\", Linear_Circuit_60, source)\n",
    "QPU.with_input(pcvl.BasicState([0, 1, 1] + (m - 3) * [0]))"
   ]
  },
  {
   "cell_type": "markdown",
   "id": "362f815e",
   "metadata": {
    "pycharm": {
     "name": "#%% md\n"
    }
   },
   "source": [
    "We can see what is the source distribution, so how likely a state at the input of the linear circuit will be."
   ]
  },
  {
   "cell_type": "code",
   "execution_count": 14,
   "id": "8446c104",
   "metadata": {
    "pycharm": {
     "name": "#%%\n"
    },
    "scrolled": true
   },
   "outputs": [
    {
     "data": {
      "text/html": [
       "<table>\n",
       "<thead>\n",
       "<tr><th>state                                                                                                                    </th><th style=\"text-align: right;\">  probability</th></tr>\n",
       "</thead>\n",
       "<tbody>\n",
       "<tr><td>|0,1,1,0,0,0,0,0,0,0,0,0,0,0,0,0,0,0,0,0,0,0,0,0,0,0,0,0,0,0,0,0,0,0,0,0,0,0,0,0,0,0,0,0,0,0,0,0,0,0,0,0,0,0,0,0,0,0,0,0&gt;</td><td style=\"text-align: right;\">       0.6561</td></tr>\n",
       "<tr><td>|0,0,1,0,0,0,0,0,0,0,0,0,0,0,0,0,0,0,0,0,0,0,0,0,0,0,0,0,0,0,0,0,0,0,0,0,0,0,0,0,0,0,0,0,0,0,0,0,0,0,0,0,0,0,0,0,0,0,0,0&gt;</td><td style=\"text-align: right;\">       0.081 </td></tr>\n",
       "<tr><td>|0,1,0,0,0,0,0,0,0,0,0,0,0,0,0,0,0,0,0,0,0,0,0,0,0,0,0,0,0,0,0,0,0,0,0,0,0,0,0,0,0,0,0,0,0,0,0,0,0,0,0,0,0,0,0,0,0,0,0,0&gt;</td><td style=\"text-align: right;\">       0.081 </td></tr>\n",
       "<tr><td>|0,2,1,0,0,0,0,0,0,0,0,0,0,0,0,0,0,0,0,0,0,0,0,0,0,0,0,0,0,0,0,0,0,0,0,0,0,0,0,0,0,0,0,0,0,0,0,0,0,0,0,0,0,0,0,0,0,0,0,0&gt;</td><td style=\"text-align: right;\">       0.0729</td></tr>\n",
       "<tr><td>|0,1,2,0,0,0,0,0,0,0,0,0,0,0,0,0,0,0,0,0,0,0,0,0,0,0,0,0,0,0,0,0,0,0,0,0,0,0,0,0,0,0,0,0,0,0,0,0,0,0,0,0,0,0,0,0,0,0,0,0&gt;</td><td style=\"text-align: right;\">       0.0729</td></tr>\n",
       "<tr><td>|0,0,0,0,0,0,0,0,0,0,0,0,0,0,0,0,0,0,0,0,0,0,0,0,0,0,0,0,0,0,0,0,0,0,0,0,0,0,0,0,0,0,0,0,0,0,0,0,0,0,0,0,0,0,0,0,0,0,0,0&gt;</td><td style=\"text-align: right;\">       0.01  </td></tr>\n",
       "<tr><td>|0,0,2,0,0,0,0,0,0,0,0,0,0,0,0,0,0,0,0,0,0,0,0,0,0,0,0,0,0,0,0,0,0,0,0,0,0,0,0,0,0,0,0,0,0,0,0,0,0,0,0,0,0,0,0,0,0,0,0,0&gt;</td><td style=\"text-align: right;\">       0.009 </td></tr>\n",
       "<tr><td>|0,2,0,0,0,0,0,0,0,0,0,0,0,0,0,0,0,0,0,0,0,0,0,0,0,0,0,0,0,0,0,0,0,0,0,0,0,0,0,0,0,0,0,0,0,0,0,0,0,0,0,0,0,0,0,0,0,0,0,0&gt;</td><td style=\"text-align: right;\">       0.009 </td></tr>\n",
       "<tr><td>|0,2,2,0,0,0,0,0,0,0,0,0,0,0,0,0,0,0,0,0,0,0,0,0,0,0,0,0,0,0,0,0,0,0,0,0,0,0,0,0,0,0,0,0,0,0,0,0,0,0,0,0,0,0,0,0,0,0,0,0&gt;</td><td style=\"text-align: right;\">       0.0081</td></tr>\n",
       "</tbody>\n",
       "</table>"
      ],
      "text/plain": [
       "<IPython.core.display.HTML object>"
      ]
     },
     "metadata": {},
     "output_type": "display_data"
    }
   ],
   "source": [
    "pcvl.pdisplay(QPU.source_distribution, precision=1e-7, max_v=20)"
   ]
  },
  {
   "cell_type": "markdown",
   "id": "86be71dd",
   "metadata": {
    "pycharm": {
     "name": "#%% md\n"
    }
   },
   "source": [
    "Now we can launch again starting from cell 8 to use this imperfect QPU with the same nominal input, or from cell 7 for another random input."
   ]
  },
  {
   "cell_type": "markdown",
   "id": "e9a4d850",
   "metadata": {
    "pycharm": {
     "name": "#%% md\n"
    }
   },
   "source": [
    "[1]: Hui Wang, et al. Boson Sampling with 20 Input Photons and a 60-Mode Interferometer in a $10^{14}$-Dimensional Hilbert Space. [Physical Review Letters](https://link.aps.org/doi/10.1103/PhysRevLett.123.250503), 123(25):250503, December 2019. Publisher: American Physical Society.\n",
    "\n",
    "[2]: Michael Reck, Anton Zeilinger, Herbert J Bernstein, and Philip Bertani. Experimental realization of any discrete unitary operator. [Physical review letters](https://journals.aps.org/prl/abstract/10.1103/PhysRevLett.73.58), 73(1):58, 1994."
   ]
  }
 ],
 "metadata": {
  "kernelspec": {
   "display_name": "Python 3 (ipykernel)",
   "language": "python",
   "name": "python3"
  },
  "language_info": {
   "codemirror_mode": {
    "name": "ipython",
    "version": 3
   },
   "file_extension": ".py",
   "mimetype": "text/x-python",
   "name": "python",
   "nbconvert_exporter": "python",
   "pygments_lexer": "ipython3",
   "version": "3.10.6"
  }
 },
 "nbformat": 4,
 "nbformat_minor": 5
}
